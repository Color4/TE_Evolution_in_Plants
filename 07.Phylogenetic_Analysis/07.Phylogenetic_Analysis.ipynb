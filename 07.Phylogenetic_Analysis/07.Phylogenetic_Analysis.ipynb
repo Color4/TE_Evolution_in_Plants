{
 "cells": [
  {
   "cell_type": "code",
   "execution_count": 4,
   "id": "9599a66f",
   "metadata": {},
   "outputs": [],
   "source": [
    "import pandas as pd\n",
    "import numpy as np\n",
    "import os\n",
    "from Bio import Entrez,SeqIO\n",
    "Entrez.email = \"huangyan8@genomics.cn\"  # 设置你的邮箱地址\n",
    "from ete3 import NCBITaxa, PhyloTree\n",
    "ncbi = NCBITaxa()\n",
    "from collections import Counter\n",
    "table_path='C:\\\\Users\\\\huangyan8\\\\Desktop\\\\work\\\\2024-09-03 TE_Evolution_Draft\\\\Tables\\\\'"
   ]
  },
  {
   "cell_type": "code",
   "execution_count": 5,
   "id": "170d4ca7",
   "metadata": {},
   "outputs": [
    {
     "data": {
      "text/html": [
       "<div>\n",
       "<style scoped>\n",
       "    .dataframe tbody tr th:only-of-type {\n",
       "        vertical-align: middle;\n",
       "    }\n",
       "\n",
       "    .dataframe tbody tr th {\n",
       "        vertical-align: top;\n",
       "    }\n",
       "\n",
       "    .dataframe thead th {\n",
       "        text-align: right;\n",
       "    }\n",
       "</style>\n",
       "<table border=\"1\" class=\"dataframe\">\n",
       "  <thead>\n",
       "    <tr style=\"text-align: right;\">\n",
       "      <th></th>\n",
       "      <th>Name</th>\n",
       "      <th>Specie_ID</th>\n",
       "      <th>Taxonomy_ID</th>\n",
       "      <th>Assembly_Accession</th>\n",
       "      <th>Assembly</th>\n",
       "      <th>Genome_Source</th>\n",
       "    </tr>\n",
       "  </thead>\n",
       "  <tbody>\n",
       "    <tr>\n",
       "      <th>0</th>\n",
       "      <td>Acer negundo</td>\n",
       "      <td>PBXX</td>\n",
       "      <td>4023</td>\n",
       "      <td>GCA_025594385.1</td>\n",
       "      <td>ASM2559438v1</td>\n",
       "      <td>NCBI</td>\n",
       "    </tr>\n",
       "  </tbody>\n",
       "</table>\n",
       "</div>"
      ],
      "text/plain": [
       "           Name Specie_ID  Taxonomy_ID Assembly_Accession      Assembly  \\\n",
       "0  Acer negundo      PBXX         4023    GCA_025594385.1  ASM2559438v1   \n",
       "\n",
       "  Genome_Source  \n",
       "0          NCBI  "
      ]
     },
     "execution_count": 5,
     "metadata": {},
     "output_type": "execute_result"
    }
   ],
   "source": [
    "samples=pd.read_excel(table_path+'Table S1\\\\Table S1.TE_Evo_558_Species.xlsx')\n",
    "samples.head(1)"
   ]
  },
  {
   "cell_type": "code",
   "execution_count": 7,
   "id": "6c603223",
   "metadata": {},
   "outputs": [
    {
     "data": {
      "text/plain": [
       "352"
      ]
     },
     "execution_count": 7,
     "metadata": {},
     "output_type": "execute_result"
    }
   ],
   "source": [
    "species_list = list(set([int(s) for s in samples['Taxonomy_ID'].tolist()]))\n",
    "len(species_list)"
   ]
  },
  {
   "cell_type": "code",
   "execution_count": 6,
   "id": "66140b79",
   "metadata": {},
   "outputs": [],
   "source": [
    "ncbi_tree = ncbi.get_topology(species_list, intermediate_nodes=True) #,collapse_subspecies=True\n",
    "newick_str = ncbi_tree.write(format=9)\n",
    "newick_str=newick_str.replace('59895','(59895,4265)')\n",
    "newick_str=newick_str.replace('(39946,39947)','(39946,39947,4530)')\n",
    "newick_str=newick_str.replace('195583','(4081,195583)')\n",
    "newick_str=newick_str.replace('1813537','(3711,1813537)')\n",
    "newick_str=newick_str.replace('(109376,36774)','(109376,36774,3712)')\n",
    "output_file1 = 'C:\\\\Users\\\\huangyan8\\\\Desktop\\\\work\\\\2024-08-03 TE_Evolution_Draft\\\\Figures\\\\Figure 1\\\\Figure 1b\\\\'+\"Plant_\"+str(len(species_list))+\"_species_tree.taxid.nwk\"\n",
    "with open(output_file1, \"w\") as f:\n",
    "    f.write(newick_str)"
   ]
  },
  {
   "cell_type": "code",
   "execution_count": null,
   "id": "c300eb95",
   "metadata": {},
   "outputs": [],
   "source": []
  }
 ],
 "metadata": {
  "kernelspec": {
   "display_name": "Python 3",
   "language": "python",
   "name": "python3"
  },
  "language_info": {
   "codemirror_mode": {
    "name": "ipython",
    "version": 3
   },
   "file_extension": ".py",
   "mimetype": "text/x-python",
   "name": "python",
   "nbconvert_exporter": "python",
   "pygments_lexer": "ipython3",
   "version": "3.8.8"
  }
 },
 "nbformat": 4,
 "nbformat_minor": 5
}
