{
 "cells": [
  {
   "cell_type": "code",
   "execution_count": 2,
   "id": "f098dd6a",
   "metadata": {},
   "outputs": [],
   "source": [
    "import pandas as pd\n",
    "import numpy as np\n",
    "import os\n",
    "from ete3 import NCBITaxa, PhyloTree\n",
    "ncbi = NCBITaxa()\n",
    "from collections import Counter\n",
    "import gseapy as gp\n",
    "from gseapy.plot import barplot, dotplot"
   ]
  },
  {
   "cell_type": "code",
   "execution_count": 4,
   "id": "4c016428",
   "metadata": {},
   "outputs": [
    {
     "data": {
      "text/plain": [
       "(352, 7)"
      ]
     },
     "execution_count": 4,
     "metadata": {},
     "output_type": "execute_result"
    }
   ],
   "source": [
    "table_path='C:\\\\Users\\\\huangyan8\\\\Desktop\\\\work\\\\2024-09-03 TE_Evolution_Draft\\\\Tables\\\\'\n",
    "fig_path='C:\\\\Users\\\\huangyan8\\\\Desktop\\\\work\\\\2024-09-03 TE_Evolution_Draft\\\\Figures\\\\'\n",
    "samples=pd.read_excel(table_path+'Table S1\\\\Table S1.TE_Evo_352_Species.xlsx')\n",
    "samples.shape"
   ]
  },
  {
   "cell_type": "markdown",
   "id": "91222c54",
   "metadata": {},
   "source": [
    "### GO Enrichment of TE-associated Genes"
   ]
  },
  {
   "cell_type": "code",
   "execution_count": 5,
   "id": "f43b9e26",
   "metadata": {},
   "outputs": [],
   "source": [
    "# prepare GO information\n",
    "goOnto=pd.read_excel('D:\\\\18.TE_Evolution\\\\03.Protein_Annotation\\\\GO_Titles.xlsx').fillna(\"\")\n",
    "goOnto.columns=['GO_Term','GO_Type',\"Title\",\"Level\"]\n",
    "GO_Term_dic={}\n",
    "for i in range(goOnto.shape[0]):\n",
    "    go_term=goOnto.loc[i,'GO_Term'].replace(\".\",\":\")\n",
    "    GO_Term_dic[go_term]={}\n",
    "    for col in ['GO_Type',\"Title\",\"Level\"]:\n",
    "        GO_Term_dic[go_term][col]=goOnto.loc[i,col]"
   ]
  },
  {
   "cell_type": "code",
   "execution_count": 9,
   "id": "c0880c61",
   "metadata": {},
   "outputs": [
    {
     "name": "stdout",
     "output_type": "stream",
     "text": [
      "0\n",
      "100\n",
      "200\n",
      "300\n"
     ]
    }
   ],
   "source": [
    "go_path='D:\\\\18.TE_Evolution\\\\03.Protein_Annotation\\\\GO\\\\'\n",
    "gene_sets={}\n",
    "for i in range(samples.shape[0]):\n",
    "    if i%100==0:\n",
    "        print(i)\n",
    "    specie_id=samples.loc[i,'Specie_ID']\n",
    "    if specie_id+\".wego.csv\" in os.listdir(go_path):\n",
    "        df=pd.read_csv(go_path+specie_id+\".wego.csv\")\n",
    "        df=df.dropna().reset_index(drop=True)\n",
    "        for i in range(df.shape[0]):\n",
    "            gene=df.loc[i,'Gene']\n",
    "            gos=df.loc[i,'Go_Terms']\n",
    "            if \"\\t\" in gos:\n",
    "                gos=gos.split(\"\\t\")\n",
    "            elif \" \" in gos:\n",
    "                gos=gos.split(\" \")\n",
    "            else:\n",
    "                gos=[gos]\n",
    "            for go in gos:\n",
    "                if go in gene_sets:\n",
    "                    gene_sets[go].append(gene)\n",
    "                else:\n",
    "                    gene_sets[go]=[gene]"
   ]
  },
  {
   "cell_type": "code",
   "execution_count": 10,
   "id": "c4651b6f",
   "metadata": {},
   "outputs": [
    {
     "name": "stdout",
     "output_type": "stream",
     "text": [
      "TE-associated Genes 5871053\n"
     ]
    },
    {
     "name": "stderr",
     "output_type": "stream",
     "text": [
      "C:\\Users\\huangyan8\\Anaconda3\\lib\\site-packages\\gseapy\\enrichr.py:556: RuntimeWarning: divide by zero encountered in log\n",
      "  odict[\"Combined Score\"] = -1 * log(pvals) * oddr\n"
     ]
    },
    {
     "name": "stdout",
     "output_type": "stream",
     "text": [
      "(14507, 11)\n"
     ]
    }
   ],
   "source": [
    "save_path='D:\\\\18.TE_Evolution\\\\12.Analysis\\\\2024-08-16 TE Evolution\\\\Part2.TE-associated_Genetic_Functions\\\\'\n",
    "TEpep_genes_path='D:\\\\18.TE_Evolution\\\\05.TEpep\\\\Gene_TEpep_Genelist\\\\Overall\\\\'\n",
    "TE_dupgene_path='D:\\\\18.TE_Evolution\\\\07.DupGene_Finder\\\\TE_Dup_Genes(2K)\\\\Overall\\\\'\n",
    "gene_list=[]\n",
    "count=0\n",
    "for  i in range(samples.shape[0]):\n",
    "    specie_id=samples.loc[i,'Specie_ID']\n",
    "    if specie_id+\".TEpep_to_Gene.txt\" in os.listdir(TEpep_genes_path):\n",
    "        gene_list+= [gene.strip() for gene in open(TEpep_genes_path+specie_id+\".TEpep_to_Gene.txt\",'r').readlines()]\n",
    "    if specie_id+\".TE_DupGenes.txt\" in os.listdir(TE_dupgene_path):\n",
    "        gene_list+=[gene.strip() for gene in open(TE_dupgene_path+specie_id+\".TE_DupGenes.txt\",'r').readlines()]\n",
    "gene_list=list(set(gene_list))\n",
    "count=len(gene_list)\n",
    "print('TE-associated Genes',count)\n",
    "if len(gene_list)>10:\n",
    "    try:\n",
    "        enr = gp.enrichr(gene_list=gene_list,#所需查询gene_list，可以是一个列表，也可为文件（一列，每行一个基因）\n",
    "            gene_sets=gene_sets,#gene set library，多个相关的gene set 。如所有GO term组成一个gene set library.\n",
    "            outdir=save_path,#输出目录\n",
    "            top_term=20,\n",
    "            cutoff=0.01#pvalue阈值\n",
    "                                             )\n",
    "        result=enr.results\n",
    "        result=result.sort_values(\"Adjusted P-value\")\n",
    "        for col in ['GO_Type',\"Title\",\"Level\"]:\n",
    "            result[col]=result['Term'].apply(lambda x:GO_Term_dic[x][col] if x in GO_Term_dic else '')\n",
    "        print(result.shape)\n",
    "        result.to_excel(save_path+\"TE-associated_Genes_GO_Enrichment.xlsx\",index=False)\n",
    "    except:\n",
    "        pass\n",
    "else:\n",
    "    print('Error: No TE-associated genes!')"
   ]
  },
  {
   "cell_type": "code",
   "execution_count": 11,
   "id": "12138b60",
   "metadata": {},
   "outputs": [
    {
     "data": {
      "text/plain": [
       "(591, 11)"
      ]
     },
     "execution_count": 11,
     "metadata": {},
     "output_type": "execute_result"
    }
   ],
   "source": [
    "result[result[\"Adjusted P-value\"]<0.01].shape"
   ]
  },
  {
   "cell_type": "markdown",
   "id": "3e039be8",
   "metadata": {},
   "source": [
    "### GO Enrichment of Transpoase Domesticated Genes"
   ]
  },
  {
   "cell_type": "code",
   "execution_count": 12,
   "id": "de7792e0",
   "metadata": {},
   "outputs": [
    {
     "name": "stdout",
     "output_type": "stream",
     "text": [
      "0\n",
      "100\n",
      "200\n",
      "300\n"
     ]
    }
   ],
   "source": [
    "go_path='D:\\\\18.TE_Evolution\\\\03.Protein_Annotation\\\\GO\\\\'\n",
    "TEpep_genes_path='D:\\\\18.TE_Evolution\\\\05.TEpep\\\\Gene_TEpep_Genelist\\\\Overall\\\\'\n",
    "gene_sets={}\n",
    "for i in range(samples.shape[0]):\n",
    "    if i%100==0:\n",
    "        print(i)\n",
    "    specie_id=samples.loc[i,'Specie_ID']\n",
    "    bg_file=specie_id+\".TEpep_to_Gene.txt\"\n",
    "    bg_genes={}\n",
    "    if bg_file in os.listdir(TEpep_genes_path):\n",
    "        for gene in [gene.strip() for gene in open(TEpep_genes_path+specie_id+\".TEpep_to_Gene.txt\",'r').readlines()]:\n",
    "            bg_genes[gene]=1\n",
    "    if specie_id+\".wego.csv\" in os.listdir(go_path):\n",
    "        df=pd.read_csv(go_path+specie_id+\".wego.csv\")\n",
    "        df=df.dropna().reset_index(drop=True)\n",
    "        for i in range(df.shape[0]):\n",
    "            gene=df.loc[i,'Gene']\n",
    "            if gene in bg_genes:\n",
    "                gos=df.loc[i,'Go_Terms']\n",
    "                if \"\\t\" in gos:\n",
    "                    gos=gos.split(\"\\t\")\n",
    "                elif \" \" in gos:\n",
    "                    gos=gos.split(\" \")\n",
    "                else:\n",
    "                    gos=[gos]\n",
    "                for go in gos:\n",
    "                    if go in gene_sets:\n",
    "                        gene_sets[go].append(gene)\n",
    "                    else:\n",
    "                        gene_sets[go]=[gene]"
   ]
  },
  {
   "cell_type": "code",
   "execution_count": 13,
   "id": "6bad4829",
   "metadata": {},
   "outputs": [
    {
     "data": {
      "text/plain": [
       "['CACTA',\n",
       " 'Helitron',\n",
       " 'LINE',\n",
       " 'Gypsy',\n",
       " 'piggybac',\n",
       " 'Crypton',\n",
       " 'hAT',\n",
       " 'ISC1316',\n",
       " 'Copia',\n",
       " 'mariner_ant1',\n",
       " 'DDE_1',\n",
       " 'P_element',\n",
       " 'ISb',\n",
       " 'Mariner',\n",
       " 'Mutator',\n",
       " 'LTR_Roo']"
      ]
     },
     "execution_count": 13,
     "metadata": {},
     "output_type": "execute_result"
    }
   ],
   "source": [
    "gene_list_path='D:\\\\18.TE_Evolution\\\\05.TEpep\\\\Gene_TEpep_Genelist\\\\Super_Family\\\\'\n",
    "families=list(set([f.split(\".TEpep\")[0][:-5] for f in os.listdir(gene_list_path)]))\n",
    "families"
   ]
  },
  {
   "cell_type": "code",
   "execution_count": 14,
   "id": "985e9040",
   "metadata": {},
   "outputs": [
    {
     "name": "stdout",
     "output_type": "stream",
     "text": [
      "CACTA 54024\n"
     ]
    },
    {
     "name": "stderr",
     "output_type": "stream",
     "text": [
      "C:\\Users\\huangyan8\\Anaconda3\\lib\\site-packages\\gseapy\\enrichr.py:556: RuntimeWarning: divide by zero encountered in log\n",
      "  odict[\"Combined Score\"] = -1 * log(pvals) * oddr\n"
     ]
    },
    {
     "name": "stdout",
     "output_type": "stream",
     "text": [
      "CACTA (1927, 11)\n",
      "Helitron 16128\n"
     ]
    },
    {
     "name": "stderr",
     "output_type": "stream",
     "text": [
      "C:\\Users\\huangyan8\\Anaconda3\\lib\\site-packages\\gseapy\\enrichr.py:556: RuntimeWarning: divide by zero encountered in log\n",
      "  odict[\"Combined Score\"] = -1 * log(pvals) * oddr\n"
     ]
    },
    {
     "name": "stdout",
     "output_type": "stream",
     "text": [
      "Helitron (900, 11)\n",
      "LINE 168598\n"
     ]
    },
    {
     "name": "stderr",
     "output_type": "stream",
     "text": [
      "C:\\Users\\huangyan8\\Anaconda3\\lib\\site-packages\\gseapy\\enrichr.py:556: RuntimeWarning: divide by zero encountered in log\n",
      "  odict[\"Combined Score\"] = -1 * log(pvals) * oddr\n"
     ]
    },
    {
     "name": "stdout",
     "output_type": "stream",
     "text": [
      "LINE (4589, 11)\n",
      "Gypsy 293795\n"
     ]
    },
    {
     "name": "stderr",
     "output_type": "stream",
     "text": [
      "C:\\Users\\huangyan8\\Anaconda3\\lib\\site-packages\\gseapy\\enrichr.py:556: RuntimeWarning: divide by zero encountered in log\n",
      "  odict[\"Combined Score\"] = -1 * log(pvals) * oddr\n"
     ]
    },
    {
     "name": "stdout",
     "output_type": "stream",
     "text": [
      "Gypsy (3522, 11)\n",
      "piggybac 70\n",
      "piggybac (30, 11)\n",
      "Crypton 31\n",
      "Crypton (35, 11)\n",
      "hAT 33425\n"
     ]
    },
    {
     "name": "stderr",
     "output_type": "stream",
     "text": [
      "C:\\Users\\huangyan8\\Anaconda3\\lib\\site-packages\\gseapy\\enrichr.py:556: RuntimeWarning: divide by zero encountered in log\n",
      "  odict[\"Combined Score\"] = -1 * log(pvals) * oddr\n"
     ]
    },
    {
     "name": "stdout",
     "output_type": "stream",
     "text": [
      "hAT (1859, 11)\n",
      "ISC1316 598\n",
      "ISC1316 (287, 11)\n",
      "Copia 354131\n"
     ]
    },
    {
     "name": "stderr",
     "output_type": "stream",
     "text": [
      "C:\\Users\\huangyan8\\Anaconda3\\lib\\site-packages\\gseapy\\enrichr.py:556: RuntimeWarning: divide by zero encountered in log\n",
      "  odict[\"Combined Score\"] = -1 * log(pvals) * oddr\n"
     ]
    },
    {
     "name": "stdout",
     "output_type": "stream",
     "text": [
      "Copia (5278, 11)\n",
      "mariner_ant1 45\n",
      "mariner_ant1 (9, 11)\n",
      "DDE_1 1239\n",
      "DDE_1 (219, 11)\n",
      "P_element 2\n",
      "P_element\n",
      "ISb 2\n",
      "ISb\n",
      "Mariner 744\n",
      "Mariner (100, 11)\n",
      "Mutator 75681\n"
     ]
    },
    {
     "name": "stderr",
     "output_type": "stream",
     "text": [
      "C:\\Users\\huangyan8\\Anaconda3\\lib\\site-packages\\gseapy\\enrichr.py:556: RuntimeWarning: divide by zero encountered in log\n",
      "  odict[\"Combined Score\"] = -1 * log(pvals) * oddr\n"
     ]
    },
    {
     "name": "stdout",
     "output_type": "stream",
     "text": [
      "Mutator (1782, 11)\n",
      "LTR_Roo 4001\n"
     ]
    },
    {
     "name": "stderr",
     "output_type": "stream",
     "text": [
      "C:\\Users\\huangyan8\\Anaconda3\\lib\\site-packages\\gseapy\\enrichr.py:556: RuntimeWarning: divide by zero encountered in log\n",
      "  odict[\"Combined Score\"] = -1 * log(pvals) * oddr\n"
     ]
    },
    {
     "name": "stdout",
     "output_type": "stream",
     "text": [
      "LTR_Roo (618, 11)\n"
     ]
    }
   ],
   "source": [
    "save_path='D:\\\\18.TE_Evolution\\\\12.Analysis\\\\2024-08-16 TE Evolution\\\\Part1.Family_Enrichment\\\\'\n",
    "for family in families:\n",
    "    gene_list=[]\n",
    "    for  i in range(samples.shape[0]):\n",
    "        specie_id=samples.loc[i,'Specie_ID']\n",
    "        g_file=family+\"_\"+specie_id+'.TEpep_to_Gene.txt'#\".TE_DupGenes.txt\"\n",
    "        if g_file in os.listdir(gene_list_path):\n",
    "            genes=[gene.strip() for gene in open(gene_list_path+g_file,'r').readlines()]\n",
    "            gene_list+=genes\n",
    "    print(family,len(gene_list))\n",
    "    if len(gene_list)>10:\n",
    "        try:\n",
    "            enr = gp.enrichr(gene_list=gene_list,#所需查询gene_list，可以是一个列表，也可为文件（一列，每行一个基因）\n",
    "                            gene_sets=gene_sets,#gene set library，多个相关的gene set 。如所有GO term组成一个gene set library.\n",
    "                            outdir=save_path,#输出目录\n",
    "                            top_term=20,\n",
    "                            cutoff=0.01#pvalue阈值\n",
    "                                             )\n",
    "            result=enr.results\n",
    "            result=result.sort_values(\"Adjusted P-value\")\n",
    "            for col in ['GO_Type',\"Title\",\"Level\"]:\n",
    "                result[col]=result['Term'].apply(lambda x:GO_Term_dic[x][col] if x in GO_Term_dic else '')\n",
    "            print(family,result.shape)\n",
    "            result.to_excel(save_path+family+\"_GO_TEpep_Dom_Enrichment.xlsx\",index=False)\n",
    "        except:\n",
    "            pass\n",
    "    else:\n",
    "        print(family)"
   ]
  },
  {
   "cell_type": "markdown",
   "id": "98ffb745",
   "metadata": {},
   "source": [
    "### Enrichment of TE induced Dup Genes"
   ]
  },
  {
   "cell_type": "code",
   "execution_count": 15,
   "id": "f503458e",
   "metadata": {},
   "outputs": [
    {
     "name": "stdout",
     "output_type": "stream",
     "text": [
      "0\n",
      "100\n",
      "200\n",
      "300\n"
     ]
    }
   ],
   "source": [
    "bg_genes={}\n",
    "gene_sets={}\n",
    "background_path='D:\\\\18.TE_Evolution\\\\07.DupGene_Finder\\\\TE_Dup_Genes(2K)\\\\Overall\\\\'\n",
    "for i in range(samples.shape[0]):\n",
    "    if i%100==0:\n",
    "        print(i)\n",
    "    specie_id=samples.loc[i,'Specie_ID']\n",
    "    bg_file=specie_id+'.TE_DupGenes.txt'#\".TE_DupGenes.txt\"\n",
    "    #rm_file=specie_id+\".TEpep_to_Gene.txt\"\n",
    "    if bg_file in os.listdir(background_path):\n",
    "        genes=[gene.strip() for gene in open(background_path+bg_file,'r').readlines()]\n",
    "        for gene in genes:\n",
    "            bg_genes[gene]=1\n",
    "        if specie_id+\".wego.csv\" in os.listdir(go_path):\n",
    "            df=pd.read_csv(go_path+specie_id+\".wego.csv\")\n",
    "            df=df.dropna().reset_index(drop=True)\n",
    "            for i in range(df.shape[0]):\n",
    "                gene=df.loc[i,'Gene']\n",
    "                if gene in bg_genes:\n",
    "                    gos=df.loc[i,'Go_Terms']\n",
    "                    if \"\\t\" in gos:\n",
    "                        gos=gos.split(\"\\t\")\n",
    "                    elif \" \" in gos:\n",
    "                        gos=gos.split(\" \")\n",
    "                    else:\n",
    "                        gos=[gos]\n",
    "                    for go in gos:\n",
    "                        if go in gene_sets:\n",
    "                            gene_sets[go].append(gene)\n",
    "                        else:\n",
    "                            gene_sets[go]=[gene]"
   ]
  },
  {
   "cell_type": "code",
   "execution_count": 16,
   "id": "da4e327b",
   "metadata": {},
   "outputs": [
    {
     "data": {
      "text/plain": [
       "['CACTA',\n",
       " 'Helitron',\n",
       " 'Gypsy',\n",
       " 'PIF-Harbinger',\n",
       " 'hAT',\n",
       " 'Copia',\n",
       " 'Mutator',\n",
       " 'Tc1_Mariner']"
      ]
     },
     "execution_count": 16,
     "metadata": {},
     "output_type": "execute_result"
    }
   ],
   "source": [
    "gene_list_path='D:\\\\18.TE_Evolution\\\\07.DupGene_Finder\\\\TE_Dup_Genes(2K)\\\\Super_Family\\\\'\n",
    "families=list(set([f.split(\".TE\")[0][:-5] for f in os.listdir(gene_list_path)]))\n",
    "families"
   ]
  },
  {
   "cell_type": "code",
   "execution_count": 17,
   "id": "44f14246",
   "metadata": {},
   "outputs": [
    {
     "name": "stdout",
     "output_type": "stream",
     "text": [
      "CACTA 2034450 TEpep Genes 151124\n"
     ]
    },
    {
     "name": "stderr",
     "output_type": "stream",
     "text": [
      "C:\\Users\\huangyan8\\Anaconda3\\lib\\site-packages\\gseapy\\enrichr.py:556: RuntimeWarning: divide by zero encountered in log\n",
      "  odict[\"Combined Score\"] = -1 * log(pvals) * oddr\n"
     ]
    },
    {
     "name": "stdout",
     "output_type": "stream",
     "text": [
      "CACTA (12525, 11)\n",
      "Helitron 3233061 TEpep Genes 153108\n"
     ]
    },
    {
     "name": "stderr",
     "output_type": "stream",
     "text": [
      "C:\\Users\\huangyan8\\Anaconda3\\lib\\site-packages\\gseapy\\enrichr.py:556: RuntimeWarning: divide by zero encountered in log\n",
      "  odict[\"Combined Score\"] = -1 * log(pvals) * oddr\n"
     ]
    },
    {
     "name": "stdout",
     "output_type": "stream",
     "text": [
      "Helitron (13798, 11)\n",
      "Gypsy 1478296 TEpep Genes 266960\n"
     ]
    },
    {
     "name": "stderr",
     "output_type": "stream",
     "text": [
      "C:\\Users\\huangyan8\\Anaconda3\\lib\\site-packages\\gseapy\\enrichr.py:556: RuntimeWarning: divide by zero encountered in log\n",
      "  odict[\"Combined Score\"] = -1 * log(pvals) * oddr\n"
     ]
    },
    {
     "name": "stdout",
     "output_type": "stream",
     "text": [
      "Gypsy (9202, 11)\n",
      "PIF-Harbinger 1375613 TEpep Genes 81075\n"
     ]
    },
    {
     "name": "stderr",
     "output_type": "stream",
     "text": [
      "C:\\Users\\huangyan8\\Anaconda3\\lib\\site-packages\\gseapy\\enrichr.py:556: RuntimeWarning: divide by zero encountered in log\n",
      "  odict[\"Combined Score\"] = -1 * log(pvals) * oddr\n"
     ]
    },
    {
     "name": "stdout",
     "output_type": "stream",
     "text": [
      "PIF-Harbinger (8716, 11)\n",
      "hAT 1592817 TEpep Genes 116976\n",
      "hAT (10728, 11)\n",
      "Copia 1716190 TEpep Genes 271554\n"
     ]
    },
    {
     "name": "stderr",
     "output_type": "stream",
     "text": [
      "C:\\Users\\huangyan8\\Anaconda3\\lib\\site-packages\\gseapy\\enrichr.py:556: RuntimeWarning: divide by zero encountered in log\n",
      "  odict[\"Combined Score\"] = -1 * log(pvals) * oddr\n"
     ]
    },
    {
     "name": "stdout",
     "output_type": "stream",
     "text": [
      "Copia (10114, 11)\n",
      "Mutator 2874488 TEpep Genes 194916\n"
     ]
    },
    {
     "name": "stderr",
     "output_type": "stream",
     "text": [
      "C:\\Users\\huangyan8\\Anaconda3\\lib\\site-packages\\gseapy\\enrichr.py:556: RuntimeWarning: divide by zero encountered in log\n",
      "  odict[\"Combined Score\"] = -1 * log(pvals) * oddr\n"
     ]
    },
    {
     "name": "stdout",
     "output_type": "stream",
     "text": [
      "Mutator (13277, 11)\n",
      "Tc1_Mariner 1514834 TEpep Genes 63659\n"
     ]
    },
    {
     "name": "stderr",
     "output_type": "stream",
     "text": [
      "C:\\Users\\huangyan8\\Anaconda3\\lib\\site-packages\\gseapy\\enrichr.py:556: RuntimeWarning: divide by zero encountered in log\n",
      "  odict[\"Combined Score\"] = -1 * log(pvals) * oddr\n"
     ]
    },
    {
     "name": "stdout",
     "output_type": "stream",
     "text": [
      "Tc1_Mariner (11919, 11)\n"
     ]
    }
   ],
   "source": [
    "save_path='D:\\\\18.TE_Evolution\\\\12.Analysis\\\\2024-08-16 TE Evolution\\\\Part1.Family_Enrichment\\\\'\n",
    "tepep_path='D:\\\\18.TE_Evolution\\\\05.TEpep\\\\Gene_TEpep_Genelist\\\\Overall\\\\'\n",
    "for family in families:\n",
    "    gene_list=[]\n",
    "    count=0\n",
    "    for  i in range(samples.shape[0]):\n",
    "        specie_id=samples.loc[i,'Specie_ID']\n",
    "        tepep_genes={}\n",
    "        if specie_id+\".TEpep_to_Gene.txt\" in os.listdir(tepep_path):\n",
    "            for gene in [gene.strip() for gene in open(tepep_path+specie_id+\".TEpep_to_Gene.txt\",'r').readlines()]:\n",
    "                tepep_genes[gene]=1\n",
    "        g_file=family+\"_\"+specie_id+\".TE_DupGenes.txt\"\n",
    "        if g_file in os.listdir(gene_list_path):\n",
    "            genes=[gene.strip() for gene in open(gene_list_path+g_file,'r').readlines()]\n",
    "            for gene in genes:\n",
    "                if gene not in tepep_genes:\n",
    "                    gene_list.append(gene)\n",
    "                else:\n",
    "                    count+=1\n",
    "    print(family,len(gene_list),'TEpep Genes',count)\n",
    "    if len(gene_list)>10:\n",
    "        try:\n",
    "            enr = gp.enrichr(gene_list=gene_list,#所需查询gene_list，可以是一个列表，也可为文件（一列，每行一个基因）\n",
    "                            gene_sets=gene_sets,#gene set library，多个相关的gene set 。如所有GO term组成一个gene set library.\n",
    "                            outdir=save_path,#输出目录\n",
    "                            top_term=20,\n",
    "                            cutoff=0.01#pvalue阈值\n",
    "                                             )\n",
    "            result=enr.results\n",
    "            result=result.sort_values(\"Adjusted P-value\")\n",
    "            for col in ['GO_Type',\"Title\",\"Level\"]:\n",
    "                result[col]=result['Term'].apply(lambda x:GO_Term_dic[x][col] if x in GO_Term_dic else '')\n",
    "            print(family,result.shape)\n",
    "            result.to_excel(save_path+family+\"_GO_TE_DupGenes_Enrichment.xlsx\",index=False)\n",
    "        except:\n",
    "            pass\n",
    "    else:\n",
    "        print(family)"
   ]
  },
  {
   "cell_type": "code",
   "execution_count": null,
   "id": "df1cedfd",
   "metadata": {},
   "outputs": [],
   "source": []
  }
 ],
 "metadata": {
  "kernelspec": {
   "display_name": "Python 3",
   "language": "python",
   "name": "python3"
  },
  "language_info": {
   "codemirror_mode": {
    "name": "ipython",
    "version": 3
   },
   "file_extension": ".py",
   "mimetype": "text/x-python",
   "name": "python",
   "nbconvert_exporter": "python",
   "pygments_lexer": "ipython3",
   "version": "3.8.8"
  }
 },
 "nbformat": 4,
 "nbformat_minor": 5
}
