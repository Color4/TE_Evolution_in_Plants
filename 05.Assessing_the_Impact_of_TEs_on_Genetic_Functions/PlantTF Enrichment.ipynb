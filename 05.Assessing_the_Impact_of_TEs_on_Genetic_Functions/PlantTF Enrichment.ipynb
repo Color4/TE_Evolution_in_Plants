{
 "cells": [
  {
   "cell_type": "code",
   "execution_count": 3,
   "id": "f098dd6a",
   "metadata": {},
   "outputs": [],
   "source": [
    "import pandas as pd\n",
    "import numpy as np\n",
    "import os\n",
    "from ete3 import NCBITaxa, PhyloTree\n",
    "ncbi = NCBITaxa()\n",
    "from collections import Counter\n",
    "import gseapy as gp\n",
    "from gseapy.plot import barplot, dotplot"
   ]
  },
  {
   "cell_type": "code",
   "execution_count": 4,
   "id": "4c016428",
   "metadata": {},
   "outputs": [
    {
     "data": {
      "text/plain": [
       "(352, 7)"
      ]
     },
     "execution_count": 4,
     "metadata": {},
     "output_type": "execute_result"
    }
   ],
   "source": [
    "table_path='C:\\\\Users\\\\huangyan8\\\\Desktop\\\\work\\\\2024-09-03 TE_Evolution_Draft\\\\Tables\\\\'\n",
    "fig_path='C:\\\\Users\\\\huangyan8\\\\Desktop\\\\work\\\\2024-09-03 TE_Evolution_Draft\\\\Figures\\\\'\n",
    "samples=pd.read_excel(table_path+'Table S1\\\\Table S1.TE_Evo_352_Species.xlsx')\n",
    "samples.shape"
   ]
  },
  {
   "cell_type": "markdown",
   "id": "91222c54",
   "metadata": {},
   "source": [
    "### Enrichment of TE-associated Genes"
   ]
  },
  {
   "cell_type": "code",
   "execution_count": 7,
   "id": "f43b9e26",
   "metadata": {},
   "outputs": [],
   "source": [
    "gene_sets={}\n",
    "PlantTF_path='D:\\\\18.TE_Evolution\\\\03.Protein_Annotation\\\\PlantTF_Family\\\\'\n",
    "for i in range(samples.shape[0]):\n",
    "    specie_id=samples.loc[i,'Specie_ID']\n",
    "    if specie_id+\"_PlantTF.csv\" in os.listdir(PlantTF_path):\n",
    "        df=pd.read_csv(PlantTF_path+specie_id+\"_PlantTF.csv\",sep='\\t')\n",
    "        for tf,tf_df in df.groupby(\"TF_Family\"):\n",
    "            genes=tf_df[\"Gene\"].tolist()\n",
    "            for gene in genes:\n",
    "                if tf in gene_sets:\n",
    "                    gene_sets[tf].append(gene)\n",
    "                else:\n",
    "                    gene_sets[tf]=[gene]"
   ]
  },
  {
   "cell_type": "code",
   "execution_count": 8,
   "id": "c4651b6f",
   "metadata": {},
   "outputs": [
    {
     "name": "stdout",
     "output_type": "stream",
     "text": [
      "TE-associated Genes 5871053\n"
     ]
    },
    {
     "name": "stderr",
     "output_type": "stream",
     "text": [
      "C:\\Users\\huangyan8\\Anaconda3\\lib\\site-packages\\gseapy\\enrichr.py:556: RuntimeWarning: divide by zero encountered in log\n",
      "  odict[\"Combined Score\"] = -1 * log(pvals) * oddr\n"
     ]
    },
    {
     "name": "stdout",
     "output_type": "stream",
     "text": [
      "(2385, 9)\n"
     ]
    }
   ],
   "source": [
    "save_path='D:\\\\18.TE_Evolution\\\\12.Analysis\\\\2024-08-16 TE Evolution\\\\Part2.TE-associated_Genetic_Functions\\\\'\n",
    "TEpep_genes_path='D:\\\\18.TE_Evolution\\\\05.TEpep\\\\Gene_TEpep_Genelist\\\\Overall\\\\'\n",
    "TE_dupgene_path='D:\\\\18.TE_Evolution\\\\07.DupGene_Finder\\\\TE_Dup_Genes(2K)\\\\Overall\\\\'\n",
    "gene_list=[]\n",
    "count=0\n",
    "for  i in range(samples.shape[0]):\n",
    "    specie_id=samples.loc[i,'Specie_ID']\n",
    "    if specie_id+\".TEpep_to_Gene.txt\" in os.listdir(TEpep_genes_path):\n",
    "        gene_list+= [gene.strip() for gene in open(TEpep_genes_path+specie_id+\".TEpep_to_Gene.txt\",'r').readlines()]\n",
    "    if specie_id+\".TE_DupGenes.txt\" in os.listdir(TE_dupgene_path):\n",
    "        gene_list+=[gene.strip() for gene in open(TE_dupgene_path+specie_id+\".TE_DupGenes.txt\",'r').readlines()]\n",
    "gene_list=list(set(gene_list))\n",
    "count=len(gene_list)\n",
    "print('TE-associated Genes',count)\n",
    "if len(gene_list)>10:\n",
    "    try:\n",
    "        enr = gp.enrichr(gene_list=gene_list,#所需查询gene_list，可以是一个列表，也可为文件（一列，每行一个基因）\n",
    "            gene_sets=gene_sets,#gene set library，多个相关的gene set 。如所有GO term组成一个gene set library.\n",
    "            outdir=save_path,#输出目录\n",
    "            top_term=20,\n",
    "            cutoff=0.01#pvalue阈值\n",
    "                                             )\n",
    "        result=enr.results\n",
    "        result=result.sort_values(\"Adjusted P-value\")\n",
    "        result['Title']=result['Term'].apply(lambda x:x.split(\":\")[1])\n",
    "        result['Term']=result['Term'].apply(lambda x:x.split(\":\")[0])\n",
    "        print(result.shape)\n",
    "        result.to_excel(save_path+\"TE-associated_Genes_PlantTF_Enrichment.xlsx\",index=False)\n",
    "    except:\n",
    "        pass\n",
    "else:\n",
    "    print('Error: No TE-associated genes!')"
   ]
  },
  {
   "cell_type": "code",
   "execution_count": 9,
   "id": "12138b60",
   "metadata": {},
   "outputs": [
    {
     "data": {
      "text/plain": [
       "(88, 9)"
      ]
     },
     "execution_count": 9,
     "metadata": {},
     "output_type": "execute_result"
    }
   ],
   "source": [
    "result[result[\"Adjusted P-value\"]<0.01].shape"
   ]
  },
  {
   "cell_type": "markdown",
   "id": "3e039be8",
   "metadata": {},
   "source": [
    "### Enrichment of Transpoase Domesticated Genes"
   ]
  },
  {
   "cell_type": "code",
   "execution_count": 10,
   "id": "de7792e0",
   "metadata": {},
   "outputs": [
    {
     "name": "stdout",
     "output_type": "stream",
     "text": [
      "0\n",
      "100\n",
      "200\n",
      "300\n"
     ]
    }
   ],
   "source": [
    "go_path='D:\\\\18.TE_Evolution\\\\03.Protein_Annotation\\\\GO\\\\'\n",
    "TEpep_genes_path='D:\\\\18.TE_Evolution\\\\05.TEpep\\\\Gene_TEpep_Genelist\\\\Overall\\\\'\n",
    "gene_sets={}\n",
    "for i in range(samples.shape[0]):\n",
    "    if i%100==0:\n",
    "        print(i)\n",
    "    specie_id=samples.loc[i,'Specie_ID']\n",
    "    bg_file=specie_id+\".TEpep_to_Gene.txt\"\n",
    "    bg_genes={}\n",
    "    if bg_file in os.listdir(TEpep_genes_path):\n",
    "        for gene in [gene.strip() for gene in open(TEpep_genes_path+specie_id+\".TEpep_to_Gene.txt\",'r').readlines()]:\n",
    "            bg_genes[gene]=1\n",
    "    if specie_id+\"_PlantTF.csv\" in os.listdir(PlantTF_path):\n",
    "        df=pd.read_csv(PlantTF_path+specie_id+\"_PlantTF.csv\",sep='\\t')\n",
    "        for tf,tf_df in df.groupby(\"TF_Family\"):\n",
    "            genes=tf_df[\"Gene\"].tolist()\n",
    "            for gene in genes:\n",
    "                if gene in bg_genes:\n",
    "                    if tf in gene_sets:\n",
    "                        gene_sets[tf].append(gene)\n",
    "                    else:\n",
    "                        gene_sets[tf]=[gene]"
   ]
  },
  {
   "cell_type": "code",
   "execution_count": 11,
   "id": "6bad4829",
   "metadata": {},
   "outputs": [
    {
     "data": {
      "text/plain": [
       "['Mutator',\n",
       " 'Crypton',\n",
       " 'Copia',\n",
       " 'DDE_1',\n",
       " 'CACTA',\n",
       " 'LINE',\n",
       " 'Gypsy',\n",
       " 'piggybac',\n",
       " 'P_element',\n",
       " 'LTR_Roo',\n",
       " 'hAT',\n",
       " 'mariner_ant1',\n",
       " 'Helitron',\n",
       " 'Mariner',\n",
       " 'ISb',\n",
       " 'ISC1316']"
      ]
     },
     "execution_count": 11,
     "metadata": {},
     "output_type": "execute_result"
    }
   ],
   "source": [
    "gene_list_path='D:\\\\18.TE_Evolution\\\\05.TEpep\\\\Gene_TEpep_Genelist\\\\Super_Family\\\\'\n",
    "families=list(set([f.split(\".TEpep\")[0][:-5] for f in os.listdir(gene_list_path)]))\n",
    "families"
   ]
  },
  {
   "cell_type": "code",
   "execution_count": 12,
   "id": "985e9040",
   "metadata": {},
   "outputs": [
    {
     "name": "stdout",
     "output_type": "stream",
     "text": [
      "Mutator 75681\n"
     ]
    },
    {
     "name": "stderr",
     "output_type": "stream",
     "text": [
      "C:\\Users\\huangyan8\\Anaconda3\\lib\\site-packages\\gseapy\\enrichr.py:556: RuntimeWarning: divide by zero encountered in log\n",
      "  odict[\"Combined Score\"] = -1 * log(pvals) * oddr\n"
     ]
    },
    {
     "name": "stdout",
     "output_type": "stream",
     "text": [
      "Mutator (372, 9)\n",
      "Crypton 31\n",
      "Crypton (10, 9)\n",
      "Copia 354131\n"
     ]
    },
    {
     "name": "stderr",
     "output_type": "stream",
     "text": [
      "C:\\Users\\huangyan8\\Anaconda3\\lib\\site-packages\\gseapy\\enrichr.py:556: RuntimeWarning: divide by zero encountered in log\n",
      "  odict[\"Combined Score\"] = -1 * log(pvals) * oddr\n"
     ]
    },
    {
     "name": "stdout",
     "output_type": "stream",
     "text": [
      "Copia (552, 9)\n",
      "DDE_1 1239\n",
      "DDE_1 (87, 9)\n",
      "CACTA 54024\n"
     ]
    },
    {
     "name": "stderr",
     "output_type": "stream",
     "text": [
      "C:\\Users\\huangyan8\\Anaconda3\\lib\\site-packages\\gseapy\\enrichr.py:556: RuntimeWarning: divide by zero encountered in log\n",
      "  odict[\"Combined Score\"] = -1 * log(pvals) * oddr\n"
     ]
    },
    {
     "name": "stdout",
     "output_type": "stream",
     "text": [
      "CACTA (363, 9)\n",
      "LINE 168598\n"
     ]
    },
    {
     "name": "stderr",
     "output_type": "stream",
     "text": [
      "C:\\Users\\huangyan8\\Anaconda3\\lib\\site-packages\\gseapy\\enrichr.py:556: RuntimeWarning: divide by zero encountered in log\n",
      "  odict[\"Combined Score\"] = -1 * log(pvals) * oddr\n"
     ]
    },
    {
     "name": "stdout",
     "output_type": "stream",
     "text": [
      "LINE (441, 9)\n",
      "Gypsy 293795\n"
     ]
    },
    {
     "name": "stderr",
     "output_type": "stream",
     "text": [
      "C:\\Users\\huangyan8\\Anaconda3\\lib\\site-packages\\gseapy\\enrichr.py:556: RuntimeWarning: divide by zero encountered in log\n",
      "  odict[\"Combined Score\"] = -1 * log(pvals) * oddr\n"
     ]
    },
    {
     "name": "stdout",
     "output_type": "stream",
     "text": [
      "Gypsy (497, 9)\n",
      "piggybac 70\n",
      "P_element 2\n",
      "P_element\n",
      "LTR_Roo 4001\n"
     ]
    },
    {
     "name": "stderr",
     "output_type": "stream",
     "text": [
      "C:\\Users\\huangyan8\\Anaconda3\\lib\\site-packages\\gseapy\\enrichr.py:556: RuntimeWarning: divide by zero encountered in log\n",
      "  odict[\"Combined Score\"] = -1 * log(pvals) * oddr\n"
     ]
    },
    {
     "name": "stdout",
     "output_type": "stream",
     "text": [
      "LTR_Roo (182, 9)\n",
      "hAT 33425\n"
     ]
    },
    {
     "name": "stderr",
     "output_type": "stream",
     "text": [
      "C:\\Users\\huangyan8\\Anaconda3\\lib\\site-packages\\gseapy\\enrichr.py:556: RuntimeWarning: divide by zero encountered in log\n",
      "  odict[\"Combined Score\"] = -1 * log(pvals) * oddr\n"
     ]
    },
    {
     "name": "stdout",
     "output_type": "stream",
     "text": [
      "hAT (333, 9)\n",
      "mariner_ant1 45\n",
      "Helitron 16128\n"
     ]
    },
    {
     "name": "stderr",
     "output_type": "stream",
     "text": [
      "C:\\Users\\huangyan8\\Anaconda3\\lib\\site-packages\\gseapy\\enrichr.py:556: RuntimeWarning: divide by zero encountered in log\n",
      "  odict[\"Combined Score\"] = -1 * log(pvals) * oddr\n"
     ]
    },
    {
     "name": "stdout",
     "output_type": "stream",
     "text": [
      "Helitron (218, 9)\n",
      "Mariner 744\n",
      "Mariner (42, 9)\n",
      "ISb 2\n",
      "ISb\n",
      "ISC1316 598\n",
      "ISC1316 (91, 9)\n"
     ]
    }
   ],
   "source": [
    "save_path='D:\\\\18.TE_Evolution\\\\12.Analysis\\\\2024-08-16 TE Evolution\\\\Part1.Family_Enrichment\\\\'\n",
    "for family in families:\n",
    "    gene_list=[]\n",
    "    for  i in range(samples.shape[0]):\n",
    "        specie_id=samples.loc[i,'Specie_ID']\n",
    "        g_file=family+\"_\"+specie_id+'.TEpep_to_Gene.txt'#\".TE_DupGenes.txt\"\n",
    "        if g_file in os.listdir(gene_list_path):\n",
    "            genes=[gene.strip() for gene in open(gene_list_path+g_file,'r').readlines()]\n",
    "            gene_list+=genes\n",
    "    print(family,len(gene_list))\n",
    "    if len(gene_list)>10:\n",
    "        try:\n",
    "            enr = gp.enrichr(gene_list=gene_list,#所需查询gene_list，可以是一个列表，也可为文件（一列，每行一个基因）\n",
    "                            gene_sets=gene_sets,#gene set library，多个相关的gene set 。如所有GO term组成一个gene set library.\n",
    "                            outdir=save_path,#输出目录\n",
    "                            top_term=20,\n",
    "                            cutoff=0.01#pvalue阈值\n",
    "                                             )\n",
    "            result=enr.results\n",
    "            result=result.sort_values(\"Adjusted P-value\")\n",
    "            result['Title']=result['Term'].apply(lambda x:x.split(\":\")[1])\n",
    "            result['Term']=result['Term'].apply(lambda x:x.split(\":\")[0])\n",
    "            print(family,result.shape)\n",
    "            result.to_excel(save_path+family+\"_PlantTF_TEpep_Dom_Enrichment.xlsx\",index=False)\n",
    "        except:\n",
    "            pass\n",
    "    else:\n",
    "        print(family)"
   ]
  },
  {
   "cell_type": "markdown",
   "id": "98ffb745",
   "metadata": {},
   "source": [
    "### Enrichment of TE induced Dup Genes"
   ]
  },
  {
   "cell_type": "code",
   "execution_count": 13,
   "id": "f503458e",
   "metadata": {},
   "outputs": [
    {
     "name": "stdout",
     "output_type": "stream",
     "text": [
      "0\n",
      "100\n",
      "200\n",
      "300\n"
     ]
    }
   ],
   "source": [
    "bg_genes={}\n",
    "gene_sets={}\n",
    "background_path='D:\\\\18.TE_Evolution\\\\07.DupGene_Finder\\\\TE_Dup_Genes(2K)\\\\Overall\\\\'\n",
    "for i in range(samples.shape[0]):\n",
    "    if i%100==0:\n",
    "        print(i)\n",
    "    specie_id=samples.loc[i,'Specie_ID']\n",
    "    bg_file=specie_id+'.TE_DupGenes.txt'#\".TE_DupGenes.txt\"\n",
    "    #rm_file=specie_id+\".TEpep_to_Gene.txt\"\n",
    "    if bg_file in os.listdir(background_path):\n",
    "        genes=[gene.strip() for gene in open(background_path+bg_file,'r').readlines()]\n",
    "        for gene in genes:\n",
    "            bg_genes[gene]=1\n",
    "        if specie_id+\"_PlantTF.csv\" in os.listdir(PlantTF_path):\n",
    "            df=pd.read_csv(PlantTF_path+specie_id+\"_PlantTF.csv\",sep='\\t')\n",
    "            for tf,tf_df in df.groupby(\"TF_Family\"):\n",
    "                genes=tf_df[\"Gene\"].tolist()\n",
    "                for gene in genes:\n",
    "                    if gene in bg_genes:\n",
    "                        if tf in gene_sets:\n",
    "                            gene_sets[tf].append(gene)\n",
    "                        else:\n",
    "                            gene_sets[tf]=[gene]"
   ]
  },
  {
   "cell_type": "code",
   "execution_count": 14,
   "id": "da4e327b",
   "metadata": {},
   "outputs": [
    {
     "data": {
      "text/plain": [
       "['Mutator',\n",
       " 'Copia',\n",
       " 'CACTA',\n",
       " 'Gypsy',\n",
       " 'Tc1_Mariner',\n",
       " 'hAT',\n",
       " 'PIF-Harbinger',\n",
       " 'Helitron']"
      ]
     },
     "execution_count": 14,
     "metadata": {},
     "output_type": "execute_result"
    }
   ],
   "source": [
    "gene_list_path='D:\\\\18.TE_Evolution\\\\07.DupGene_Finder\\\\TE_Dup_Genes(2K)\\\\Super_Family\\\\'\n",
    "families=list(set([f.split(\".TE\")[0][:-5] for f in os.listdir(gene_list_path)]))\n",
    "families"
   ]
  },
  {
   "cell_type": "code",
   "execution_count": null,
   "id": "44f14246",
   "metadata": {},
   "outputs": [
    {
     "name": "stdout",
     "output_type": "stream",
     "text": [
      "Mutator 2874488 TEpep Genes 194916\n"
     ]
    },
    {
     "name": "stderr",
     "output_type": "stream",
     "text": [
      "C:\\Users\\huangyan8\\Anaconda3\\lib\\site-packages\\gseapy\\enrichr.py:556: RuntimeWarning: divide by zero encountered in log\n",
      "  odict[\"Combined Score\"] = -1 * log(pvals) * oddr\n"
     ]
    },
    {
     "name": "stdout",
     "output_type": "stream",
     "text": [
      "Mutator (1853, 9)\n",
      "Copia 1716190 TEpep Genes 271554\n"
     ]
    }
   ],
   "source": [
    "save_path='D:\\\\18.TE_Evolution\\\\12.Analysis\\\\2024-08-16 TE Evolution\\\\Part1.Family_Enrichment\\\\'\n",
    "tepep_path='D:\\\\18.TE_Evolution\\\\05.TEpep\\\\Gene_TEpep_Genelist\\\\Overall\\\\'\n",
    "for family in families:\n",
    "    gene_list=[]\n",
    "    count=0\n",
    "    for  i in range(samples.shape[0]):\n",
    "        specie_id=samples.loc[i,'Specie_ID']\n",
    "        tepep_genes={}\n",
    "        if specie_id+\".TEpep_to_Gene.txt\" in os.listdir(tepep_path):\n",
    "            for gene in [gene.strip() for gene in open(tepep_path+specie_id+\".TEpep_to_Gene.txt\",'r').readlines()]:\n",
    "                tepep_genes[gene]=1\n",
    "        g_file=family+\"_\"+specie_id+\".TE_DupGenes.txt\"\n",
    "        if g_file in os.listdir(gene_list_path):\n",
    "            genes=[gene.strip() for gene in open(gene_list_path+g_file,'r').readlines()]\n",
    "            for gene in genes:\n",
    "                if gene not in tepep_genes:\n",
    "                    gene_list.append(gene)\n",
    "                else:\n",
    "                    count+=1\n",
    "    print(family,len(gene_list),'TEpep Genes',count)\n",
    "    if len(gene_list)>10:\n",
    "        try:\n",
    "            enr = gp.enrichr(gene_list=gene_list,#所需查询gene_list，可以是一个列表，也可为文件（一列，每行一个基因）\n",
    "                            gene_sets=gene_sets,#gene set library，多个相关的gene set 。如所有GO term组成一个gene set library.\n",
    "                            outdir=save_path,#输出目录\n",
    "                            top_term=20,\n",
    "                            cutoff=0.01#pvalue阈值\n",
    "                                             )\n",
    "            result=enr.results\n",
    "            result=result.sort_values(\"Adjusted P-value\")\n",
    "            result['Title']=result['Term'].apply(lambda x:x.split(\":\")[1])\n",
    "            result['Term']=result['Term'].apply(lambda x:x.split(\":\")[0])\n",
    "            print(family,result.shape)\n",
    "            result.to_excel(save_path+family+\"_PlantTF_TE_DupGenes_Enrichment.xlsx\",index=False)\n",
    "        except:\n",
    "            pass\n",
    "    else:\n",
    "        print(family)"
   ]
  },
  {
   "cell_type": "code",
   "execution_count": null,
   "id": "df1cedfd",
   "metadata": {},
   "outputs": [],
   "source": []
  }
 ],
 "metadata": {
  "kernelspec": {
   "display_name": "Python 3",
   "language": "python",
   "name": "python3"
  },
  "language_info": {
   "codemirror_mode": {
    "name": "ipython",
    "version": 3
   },
   "file_extension": ".py",
   "mimetype": "text/x-python",
   "name": "python",
   "nbconvert_exporter": "python",
   "pygments_lexer": "ipython3",
   "version": "3.8.8"
  }
 },
 "nbformat": 4,
 "nbformat_minor": 5
}
