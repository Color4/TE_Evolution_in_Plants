{
 "cells": [
  {
   "cell_type": "code",
   "execution_count": 1,
   "id": "f098dd6a",
   "metadata": {},
   "outputs": [],
   "source": [
    "import pandas as pd\n",
    "import numpy as np\n",
    "import os\n",
    "from ete3 import NCBITaxa, PhyloTree\n",
    "ncbi = NCBITaxa()\n",
    "from collections import Counter\n",
    "import gseapy as gp\n",
    "from gseapy.plot import barplot, dotplot"
   ]
  },
  {
   "cell_type": "code",
   "execution_count": 2,
   "id": "4c016428",
   "metadata": {},
   "outputs": [
    {
     "data": {
      "text/plain": [
       "(352, 7)"
      ]
     },
     "execution_count": 2,
     "metadata": {},
     "output_type": "execute_result"
    }
   ],
   "source": [
    "table_path='C:\\\\Users\\\\huangyan8\\\\Desktop\\\\work\\\\2024-09-03 TE_Evolution_Draft\\\\Tables\\\\'\n",
    "fig_path='C:\\\\Users\\\\huangyan8\\\\Desktop\\\\work\\\\2024-09-03 TE_Evolution_Draft\\\\Figures\\\\'\n",
    "samples=pd.read_excel(table_path+'Table S1\\\\Table S1.TE_Evo_352_Species.xlsx')\n",
    "samples.shape"
   ]
  },
  {
   "cell_type": "markdown",
   "id": "91222c54",
   "metadata": {},
   "source": [
    "### KEGG Enrichment of TE-associated Genes"
   ]
  },
  {
   "cell_type": "code",
   "execution_count": 3,
   "id": "f43b9e26",
   "metadata": {},
   "outputs": [
    {
     "name": "stdout",
     "output_type": "stream",
     "text": [
      "0\n",
      "100\n",
      "200\n",
      "300\n"
     ]
    }
   ],
   "source": [
    "# prepare KEGG information\n",
    "import re\n",
    "p=re.compile(\"K\\d{5}\")\n",
    "path='D:\\\\18.TE_Evolution\\\\03.Protein_Annotation\\\\KEGG_Result\\\\KEGG_Result\\\\KEGG_Result\\\\'\n",
    "ko_info={}\n",
    "for i in range(samples.shape[0]):\n",
    "    if i%100==0:\n",
    "        print(i)\n",
    "    specie_id=samples.loc[i,'Specie_ID']\n",
    "    if specie_id+'.kegg.path' in os.listdir(path):\n",
    "        KO=pd.read_csv(path+specie_id+'.blast.kegg.xls',sep='\\t')\n",
    "        KO=KO.drop_duplicates('Subject_annotation').reset_index(drop=True)\n",
    "        for j in range(KO.shape[0]):\n",
    "            values=KO.loc[j,'Subject_annotation'].split(\"; \")\n",
    "            for v in values:\n",
    "                if p.findall(v)!=[]:\n",
    "                    ko=p.findall(v)[0]\n",
    "                    anno=v[7:]\n",
    "                    ko_info[ko]=anno"
   ]
  },
  {
   "cell_type": "code",
   "execution_count": 5,
   "id": "ce23eddf",
   "metadata": {},
   "outputs": [
    {
     "name": "stdout",
     "output_type": "stream",
     "text": [
      "0\n",
      "100\n",
      "200\n",
      "300\n"
     ]
    }
   ],
   "source": [
    "kegg_path='D:\\\\18.TE_Evolution\\\\03.Protein_Annotation\\\\KEGG.ko\\\\'\n",
    "gene_sets={}\n",
    "for i in range(samples.shape[0]):\n",
    "    if i%100==0:\n",
    "        print(i)\n",
    "    specie_id=samples.loc[i,'Specie_ID']\n",
    "    if specie_id+\".ko.csv\" in os.listdir(kegg_path):\n",
    "        df=pd.read_csv(kegg_path+specie_id+\".ko.csv\")\n",
    "        df=df.dropna().reset_index(drop=True)\n",
    "        for j in range(df.shape[0]):\n",
    "            gene=df.loc[j,'Gene']\n",
    "            kos=df.loc[j,'KEGG_Terms']\n",
    "            if \"\\t\" in kos:\n",
    "                kos=kos.split(\"\\t\")\n",
    "            elif \" \" in kos:\n",
    "                kos=kos.split(\" \")\n",
    "            elif \" | \" in kos:\n",
    "                kos=kos.split(\" | \")\n",
    "            else:\n",
    "                kos=[kos]\n",
    "            for ko in kos:\n",
    "                if ko in gene_sets:\n",
    "                    gene_sets[ko].append(gene)\n",
    "                else:\n",
    "                    gene_sets[ko]=[gene]"
   ]
  },
  {
   "cell_type": "code",
   "execution_count": 6,
   "id": "7f7aec31",
   "metadata": {},
   "outputs": [
    {
     "name": "stdout",
     "output_type": "stream",
     "text": [
      "TE-associated Genes 5871053\n"
     ]
    },
    {
     "name": "stderr",
     "output_type": "stream",
     "text": [
      "C:\\Users\\huangyan8\\Anaconda3\\lib\\site-packages\\gseapy\\enrichr.py:556: RuntimeWarning: divide by zero encountered in log\n",
      "  odict[\"Combined Score\"] = -1 * log(pvals) * oddr\n"
     ]
    }
   ],
   "source": [
    "save_path='D:\\\\18.TE_Evolution\\\\12.Analysis\\\\2024-08-16 TE Evolution\\\\Part2.TE-associated_Genetic_Functions\\\\'\n",
    "TEpep_genes_path='D:\\\\18.TE_Evolution\\\\05.TEpep\\\\Gene_TEpep_Genelist\\\\Overall\\\\'\n",
    "TE_dupgene_path='D:\\\\18.TE_Evolution\\\\07.DupGene_Finder\\\\TE_Dup_Genes(2K)\\\\Overall\\\\'\n",
    "gene_list=[]\n",
    "count=0\n",
    "for  i in range(samples.shape[0]):\n",
    "    specie_id=samples.loc[i,'Specie_ID']\n",
    "    if specie_id+\".TEpep_to_Gene.txt\" in os.listdir(TEpep_genes_path):\n",
    "        gene_list+= [gene.strip() for gene in open(TEpep_genes_path+specie_id+\".TEpep_to_Gene.txt\",'r').readlines()]\n",
    "    if specie_id+\".TE_DupGenes.txt\" in os.listdir(TE_dupgene_path):\n",
    "        gene_list+=[gene.strip() for gene in open(TE_dupgene_path+specie_id+\".TE_DupGenes.txt\",'r').readlines()]\n",
    "gene_list=list(set(gene_list))\n",
    "count=len(gene_list)\n",
    "print('TE-associated Genes',count)\n",
    "if len(gene_list)>10:\n",
    "    try:\n",
    "        enr = gp.enrichr(gene_list=gene_list,#所需查询gene_list，可以是一个列表，也可为文件（一列，每行一个基因）\n",
    "            gene_sets=gene_sets,#gene set library，多个相关的gene set 。如所有GO term组成一个gene set library.\n",
    "            outdir=save_path,#输出目录\n",
    "            top_term=20,\n",
    "            cutoff=0.01#pvalue阈值\n",
    "                                             )\n",
    "        result=enr.results\n",
    "        result=result.sort_values(\"Adjusted P-value\")\n",
    "        result[\"Title\"]=result['Term'].apply(lambda x:ko_info[x] if x in ko_info else '')\n",
    "        print(family,result.shape)\n",
    "        result.to_excel(save_path+\"TE-associated_Genes_KEGG_Enrichment.xlsx\",index=False)\n",
    "    except:\n",
    "        pass\n",
    "else:\n",
    "    print('Error: No TE-associated genes!')"
   ]
  },
  {
   "cell_type": "code",
   "execution_count": 7,
   "id": "10df99a7",
   "metadata": {},
   "outputs": [
    {
     "data": {
      "text/plain": [
       "(1853, 9)"
      ]
     },
     "execution_count": 7,
     "metadata": {},
     "output_type": "execute_result"
    }
   ],
   "source": [
    "result[result[\"Adjusted P-value\"]<0.01].shape"
   ]
  },
  {
   "cell_type": "markdown",
   "id": "46af4df1",
   "metadata": {},
   "source": [
    "### KEGG Enrichment of Transpoase Domesticated Genes"
   ]
  },
  {
   "cell_type": "code",
   "execution_count": 8,
   "id": "f2c888c3",
   "metadata": {},
   "outputs": [
    {
     "name": "stdout",
     "output_type": "stream",
     "text": [
      "0\n",
      "100\n",
      "200\n",
      "300\n"
     ]
    }
   ],
   "source": [
    "TEpep_genes_path='D:\\\\18.TE_Evolution\\\\05.TEpep\\\\Gene_TEpep_Genelist\\\\Overall\\\\'\n",
    "gene_sets={}\n",
    "for i in range(samples.shape[0]):\n",
    "    if i%100==0:\n",
    "        print(i)\n",
    "    specie_id=samples.loc[i,'Specie_ID']\n",
    "    bg_file=specie_id+\".TEpep_to_Gene.txt\"\n",
    "    bg_genes={}\n",
    "    if bg_file in os.listdir(TEpep_genes_path):\n",
    "        for gene in [gene.strip() for gene in open(TEpep_genes_path+specie_id+\".TEpep_to_Gene.txt\",'r').readlines()]:\n",
    "            bg_genes[gene]=1\n",
    "    if specie_id+\".ko.csv\" in os.listdir(kegg_path):\n",
    "        df=pd.read_csv(kegg_path+specie_id+\".ko.csv\")\n",
    "        df=df.dropna().reset_index(drop=True)\n",
    "        for j in range(df.shape[0]):\n",
    "            gene=df.loc[j,'Gene']\n",
    "            if gene in bg_genes:\n",
    "                kos=df.loc[j,'KEGG_Terms']\n",
    "                if \"\\t\" in kos:\n",
    "                    kos=kos.split(\"\\t\")\n",
    "                elif \" \" in kos:\n",
    "                    kos=kos.split(\" \")\n",
    "                elif \" | \" in kos:\n",
    "                    kos=kos.split(\" | \")\n",
    "                else:\n",
    "                    kos=[kos]\n",
    "                for ko in kos:\n",
    "                    if ko in gene_sets:\n",
    "                        gene_sets[ko].append(gene)\n",
    "                    else:\n",
    "                        gene_sets[ko]=[gene]"
   ]
  },
  {
   "cell_type": "code",
   "execution_count": 9,
   "id": "6bad4829",
   "metadata": {},
   "outputs": [
    {
     "data": {
      "text/plain": [
       "['LTR_Roo',\n",
       " 'Crypton',\n",
       " 'Mariner',\n",
       " 'P_element',\n",
       " 'CACTA',\n",
       " 'hAT',\n",
       " 'LINE',\n",
       " 'mariner_ant1',\n",
       " 'piggybac',\n",
       " 'Gypsy',\n",
       " 'Copia',\n",
       " 'ISb',\n",
       " 'Helitron',\n",
       " 'Mutator',\n",
       " 'DDE_1',\n",
       " 'ISC1316']"
      ]
     },
     "execution_count": 9,
     "metadata": {},
     "output_type": "execute_result"
    }
   ],
   "source": [
    "gene_list_path='D:\\\\18.TE_Evolution\\\\05.TEpep\\\\Gene_TEpep_Genelist\\\\Super_Family\\\\'\n",
    "families=list(set([f.split(\".TEpep\")[0][:-5] for f in os.listdir(gene_list_path)]))\n",
    "families"
   ]
  },
  {
   "cell_type": "code",
   "execution_count": null,
   "id": "985e9040",
   "metadata": {},
   "outputs": [
    {
     "name": "stdout",
     "output_type": "stream",
     "text": [
      "LTR_Roo 4001\n"
     ]
    },
    {
     "name": "stderr",
     "output_type": "stream",
     "text": [
      "C:\\Users\\huangyan8\\Anaconda3\\lib\\site-packages\\gseapy\\enrichr.py:556: RuntimeWarning: divide by zero encountered in log\n",
      "  odict[\"Combined Score\"] = -1 * log(pvals) * oddr\n"
     ]
    },
    {
     "name": "stdout",
     "output_type": "stream",
     "text": [
      "LTR_Roo (1017, 9)\n",
      "Crypton 31\n",
      "Crypton (19, 9)\n",
      "Mariner 744\n"
     ]
    },
    {
     "name": "stderr",
     "output_type": "stream",
     "text": [
      "C:\\Users\\huangyan8\\Anaconda3\\lib\\site-packages\\gseapy\\enrichr.py:556: RuntimeWarning: divide by zero encountered in log\n",
      "  odict[\"Combined Score\"] = -1 * log(pvals) * oddr\n"
     ]
    },
    {
     "name": "stdout",
     "output_type": "stream",
     "text": [
      "Mariner (165, 9)\n",
      "P_element 2\n",
      "P_element\n",
      "CACTA 54024\n"
     ]
    },
    {
     "name": "stderr",
     "output_type": "stream",
     "text": [
      "C:\\Users\\huangyan8\\Anaconda3\\lib\\site-packages\\gseapy\\enrichr.py:556: RuntimeWarning: divide by zero encountered in log\n",
      "  odict[\"Combined Score\"] = -1 * log(pvals) * oddr\n"
     ]
    },
    {
     "name": "stdout",
     "output_type": "stream",
     "text": [
      "CACTA (6088, 9)\n",
      "hAT 33425\n"
     ]
    },
    {
     "name": "stderr",
     "output_type": "stream",
     "text": [
      "C:\\Users\\huangyan8\\Anaconda3\\lib\\site-packages\\gseapy\\enrichr.py:556: RuntimeWarning: divide by zero encountered in log\n",
      "  odict[\"Combined Score\"] = -1 * log(pvals) * oddr\n"
     ]
    },
    {
     "name": "stdout",
     "output_type": "stream",
     "text": [
      "hAT (5156, 9)\n",
      "LINE 168598\n"
     ]
    },
    {
     "name": "stderr",
     "output_type": "stream",
     "text": [
      "C:\\Users\\huangyan8\\Anaconda3\\lib\\site-packages\\gseapy\\enrichr.py:556: RuntimeWarning: divide by zero encountered in log\n",
      "  odict[\"Combined Score\"] = -1 * log(pvals) * oddr\n"
     ]
    },
    {
     "name": "stdout",
     "output_type": "stream",
     "text": [
      "LINE (10099, 9)\n",
      "mariner_ant1 45\n",
      "mariner_ant1 (24, 9)\n",
      "piggybac 70\n",
      "piggybac (27, 9)\n",
      "Gypsy 293795\n"
     ]
    },
    {
     "name": "stderr",
     "output_type": "stream",
     "text": [
      "C:\\Users\\huangyan8\\Anaconda3\\lib\\site-packages\\gseapy\\enrichr.py:556: RuntimeWarning: divide by zero encountered in log\n",
      "  odict[\"Combined Score\"] = -1 * log(pvals) * oddr\n"
     ]
    },
    {
     "name": "stdout",
     "output_type": "stream",
     "text": [
      "Gypsy (9896, 9)\n",
      "Copia 354131\n"
     ]
    },
    {
     "name": "stderr",
     "output_type": "stream",
     "text": [
      "C:\\Users\\huangyan8\\Anaconda3\\lib\\site-packages\\gseapy\\enrichr.py:556: RuntimeWarning: divide by zero encountered in log\n",
      "  odict[\"Combined Score\"] = -1 * log(pvals) * oddr\n"
     ]
    },
    {
     "name": "stdout",
     "output_type": "stream",
     "text": [
      "Copia (13412, 9)\n",
      "ISb 2\n",
      "ISb\n",
      "Helitron 16128\n"
     ]
    },
    {
     "name": "stderr",
     "output_type": "stream",
     "text": [
      "C:\\Users\\huangyan8\\Anaconda3\\lib\\site-packages\\gseapy\\enrichr.py:556: RuntimeWarning: divide by zero encountered in log\n",
      "  odict[\"Combined Score\"] = -1 * log(pvals) * oddr\n"
     ]
    },
    {
     "name": "stdout",
     "output_type": "stream",
     "text": [
      "Helitron (2316, 9)\n",
      "Mutator 75681\n"
     ]
    }
   ],
   "source": [
    "save_path='D:\\\\18.TE_Evolution\\\\12.Analysis\\\\2024-08-16 TE Evolution\\\\Part1.Family_Enrichment\\\\'\n",
    "for family in families:\n",
    "    gene_list=[]\n",
    "    for  i in range(samples.shape[0]):\n",
    "        specie_id=samples.loc[i,'Specie_ID']\n",
    "        g_file=family+\"_\"+specie_id+'.TEpep_to_Gene.txt'#\".TE_DupGenes.txt\"\n",
    "        if g_file in os.listdir(gene_list_path):\n",
    "            genes=[gene.strip() for gene in open(gene_list_path+g_file,'r').readlines()]\n",
    "            gene_list+=genes\n",
    "    print(family,len(gene_list))\n",
    "    if len(gene_list)>10:\n",
    "        try:\n",
    "            enr = gp.enrichr(gene_list=gene_list,#所需查询gene_list，可以是一个列表，也可为文件（一列，每行一个基因）\n",
    "                            gene_sets=gene_sets,#gene set library，多个相关的gene set 。如所有GO term组成一个gene set library.\n",
    "                            outdir=save_path,#输出目录\n",
    "                            top_term=20,\n",
    "                            cutoff=0.01#pvalue阈值\n",
    "                                             )\n",
    "            result=enr.results\n",
    "            result=result.sort_values(\"Adjusted P-value\")\n",
    "            result[\"Title\"]=result['Term'].apply(lambda x:ko_info[x] if x in ko_info else '')\n",
    "            print(family,result.shape)\n",
    "            result.to_excel(save_path+family+\"_KEGG_TEpep_Dom_Enrichment.xlsx\",index=False)\n",
    "        except:\n",
    "            pass\n",
    "    else:\n",
    "        print(family)"
   ]
  },
  {
   "cell_type": "markdown",
   "id": "39ed0d12",
   "metadata": {},
   "source": [
    "### Enrichment of TE induced Dup Genes"
   ]
  },
  {
   "cell_type": "code",
   "execution_count": null,
   "id": "f503458e",
   "metadata": {},
   "outputs": [],
   "source": [
    "bg_genes={}\n",
    "gene_sets={}\n",
    "background_path='D:\\\\18.TE_Evolution\\\\07.DupGene_Finder\\\\TE_Dup_Genes(2K)\\\\Overall\\\\'\n",
    "for i in range(samples.shape[0]):\n",
    "    if i%100==0:\n",
    "        print(i)\n",
    "    specie_id=samples.loc[i,'Specie_ID']\n",
    "    bg_file=specie_id+'.TE_DupGenes.txt'#\".TE_DupGenes.txt\"\n",
    "    #rm_file=specie_id+\".TEpep_to_Gene.txt\"\n",
    "    if bg_file in os.listdir(background_path):\n",
    "        genes=[gene.strip() for gene in open(background_path+bg_file,'r').readlines()]\n",
    "        for gene in genes:\n",
    "            bg_genes[gene]=1\n",
    "        if specie_id+\".ko.csv\" in os.listdir(kegg_path):\n",
    "            df=pd.read_csv(kegg_path+specie_id+\".ko.csv\")\n",
    "            df=df.dropna().reset_index(drop=True)\n",
    "            for j in range(df.shape[0]):\n",
    "                gene=df.loc[j,'Gene']\n",
    "                if gene in bg_genes:\n",
    "                    kos=df.loc[j,'KEGG_Terms']\n",
    "                    if \"\\t\" in kos:\n",
    "                        kos=kos.split(\"\\t\")\n",
    "                    elif \" \" in kos:\n",
    "                        kos=kos.split(\" \")\n",
    "                    elif \" | \" in kos:\n",
    "                        kos=kos.split(\" | \")\n",
    "                    else:\n",
    "                        kos=[kos]\n",
    "                    for ko in kos:\n",
    "                        if ko in gene_sets:\n",
    "                            gene_sets[ko].append(gene)\n",
    "                        else:\n",
    "                            gene_sets[ko]=[gene]"
   ]
  },
  {
   "cell_type": "code",
   "execution_count": null,
   "id": "da4e327b",
   "metadata": {},
   "outputs": [],
   "source": [
    "gene_list_path='D:\\\\18.TE_Evolution\\\\07.DupGene_Finder\\\\TE_Dup_Genes(2K)\\\\Super_Family\\\\'\n",
    "families=list(set([f.split(\".TE\")[0][:-5] for f in os.listdir(gene_list_path)]))\n",
    "families"
   ]
  },
  {
   "cell_type": "code",
   "execution_count": null,
   "id": "44f14246",
   "metadata": {},
   "outputs": [],
   "source": [
    "save_path='D:\\\\18.TE_Evolution\\\\12.Analysis\\\\2024-08-16 TE Evolution\\\\Part1.Family_Enrichment\\\\'\n",
    "tepep_path='D:\\\\18.TE_Evolution\\\\05.TEpep\\\\Gene_TEpep_Genelist\\\\Overall\\\\'\n",
    "for family in families:\n",
    "    gene_list=[]\n",
    "    count=0\n",
    "    for  i in range(samples.shape[0]):\n",
    "        specie_id=samples.loc[i,'Specie_ID']\n",
    "        tepep_genes={}\n",
    "        if specie_id+\".TEpep_to_Gene.txt\" in os.listdir(tepep_path):\n",
    "            for gene in [gene.strip() for gene in open(tepep_path+specie_id+\".TEpep_to_Gene.txt\",'r').readlines()]:\n",
    "                tepep_genes[gene]=1\n",
    "        g_file=family+\"_\"+specie_id+\".TE_DupGenes.txt\"\n",
    "        if g_file in os.listdir(gene_list_path):\n",
    "            genes=[gene.strip() for gene in open(gene_list_path+g_file,'r').readlines()]\n",
    "            for gene in genes:\n",
    "                if gene not in tepep_genes:\n",
    "                    gene_list.append(gene)\n",
    "                else:\n",
    "                    count+=1\n",
    "    print(family,len(gene_list),'TEpep Genes',count)\n",
    "    if len(gene_list)>10:\n",
    "        try:\n",
    "            enr = gp.enrichr(gene_list=gene_list,#所需查询gene_list，可以是一个列表，也可为文件（一列，每行一个基因）\n",
    "                            gene_sets=gene_sets,#gene set library，多个相关的gene set 。如所有GO term组成一个gene set library.\n",
    "                            outdir=save_path,#输出目录\n",
    "                            top_term=20,\n",
    "                            cutoff=0.01#pvalue阈值\n",
    "                                             )\n",
    "            result=enr.results\n",
    "            result=result.sort_values(\"Adjusted P-value\")\n",
    "            result[\"Title\"]=result['Term'].apply(lambda x:ko_info[x] if x in ko_info else '')\n",
    "            print(family,result.shape)\n",
    "            result.to_excel(save_path+family+\"_KEGG_TE_DupGenes_Enrichment.xlsx\",index=False)\n",
    "        except:\n",
    "            pass\n",
    "    else:\n",
    "        print(family)"
   ]
  },
  {
   "cell_type": "code",
   "execution_count": null,
   "id": "df1cedfd",
   "metadata": {},
   "outputs": [],
   "source": []
  },
  {
   "cell_type": "code",
   "execution_count": null,
   "id": "07484746",
   "metadata": {},
   "outputs": [],
   "source": []
  }
 ],
 "metadata": {
  "kernelspec": {
   "display_name": "Python 3",
   "language": "python",
   "name": "python3"
  },
  "language_info": {
   "codemirror_mode": {
    "name": "ipython",
    "version": 3
   },
   "file_extension": ".py",
   "mimetype": "text/x-python",
   "name": "python",
   "nbconvert_exporter": "python",
   "pygments_lexer": "ipython3",
   "version": "3.8.8"
  }
 },
 "nbformat": 4,
 "nbformat_minor": 5
}
