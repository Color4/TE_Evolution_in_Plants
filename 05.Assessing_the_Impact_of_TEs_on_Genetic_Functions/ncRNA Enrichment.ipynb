{
 "cells": [
  {
   "cell_type": "code",
   "execution_count": 1,
   "id": "f098dd6a",
   "metadata": {},
   "outputs": [],
   "source": [
    "import pandas as pd\n",
    "import numpy as np\n",
    "import os\n",
    "from ete3 import NCBITaxa, PhyloTree\n",
    "ncbi = NCBITaxa()\n",
    "from collections import Counter\n",
    "import gseapy as gp\n",
    "from gseapy.plot import barplot, dotplot"
   ]
  },
  {
   "cell_type": "code",
   "execution_count": 2,
   "id": "4c016428",
   "metadata": {},
   "outputs": [
    {
     "data": {
      "text/plain": [
       "(352, 7)"
      ]
     },
     "execution_count": 2,
     "metadata": {},
     "output_type": "execute_result"
    }
   ],
   "source": [
    "table_path='C:\\\\Users\\\\huangyan8\\\\Desktop\\\\work\\\\2024-09-03 TE_Evolution_Draft\\\\Tables\\\\'\n",
    "fig_path='C:\\\\Users\\\\huangyan8\\\\Desktop\\\\work\\\\2024-09-03 TE_Evolution_Draft\\\\Figures\\\\'\n",
    "samples=pd.read_excel(table_path+'Table S1\\\\Table S1.TE_Evo_352_Species.xlsx')\n",
    "samples.shape"
   ]
  },
  {
   "cell_type": "markdown",
   "id": "91222c54",
   "metadata": {},
   "source": [
    "### Enrichment of TE-associated Genes"
   ]
  },
  {
   "cell_type": "code",
   "execution_count": 4,
   "id": "933936d8",
   "metadata": {},
   "outputs": [],
   "source": [
    "family=pd.read_csv(\"E:\\\\Linux Work Project\\\\2023-01-14 Genome\\\\12.ncRNA\\\\family.txt\",sep='\\t',header=None,encoding_errors='ignore')\n",
    "family_dic={}\n",
    "class_dic={}\n",
    "for i in range(family.shape[0]):\n",
    "    family_dic[family.loc[i,0]]=family.loc[i,1]\n",
    "    class_dic[family.loc[i,0]]=family.loc[i,3]"
   ]
  },
  {
   "cell_type": "code",
   "execution_count": 3,
   "id": "f43b9e26",
   "metadata": {},
   "outputs": [],
   "source": [
    "ncRNA_path='D:\\\\18.TE_Evolution\\\\06.Bed\\\\ncRNA_Bed\\\\'\n",
    "ncRNA_sets={}\n",
    "for i in range(samples.shape[0]):\n",
    "    specie_id=samples.loc[i,'Specie_ID']\n",
    "    if specie_id+\"_ncRNA.bed\" in os.listdir(ncRNA_path):\n",
    "        df=pd.read_csv(ncRNA_path+specie_id+\"_ncRNA.bed\",sep='\\t')\n",
    "        new=[]\n",
    "        for n,n_df in df.groupby(\"ncRNA_name\"):\n",
    "            n_df=n_df.reset_index(drop=True).reset_index()\n",
    "            n_df['name']=n_df['ncRNA_name']+\"_\"+specie_id+\"_\"+n_df['index'].apply(lambda x:str(x))\n",
    "            new.append(n_df)\n",
    "        df=pd.concat(new).reset_index(drop=True)\n",
    "        for nf,nf_df in df.groupby(\"ncRNA_Family\"):\n",
    "            genes=nf_df[\"name\"].tolist()\n",
    "            for gene in genes:\n",
    "                if nf in ncRNA_sets:\n",
    "                    ncRNA_sets[nf].append(gene)\n",
    "                else:\n",
    "                    ncRNA_sets[nf]=[gene]"
   ]
  },
  {
   "cell_type": "code",
   "execution_count": 5,
   "id": "c4651b6f",
   "metadata": {},
   "outputs": [
    {
     "name": "stdout",
     "output_type": "stream",
     "text": [
      "TE-associated ncRNAs 588945\n"
     ]
    },
    {
     "name": "stderr",
     "output_type": "stream",
     "text": [
      "C:\\Users\\huangyan8\\Anaconda3\\lib\\site-packages\\gseapy\\enrichr.py:556: RuntimeWarning: divide by zero encountered in log\n",
      "  odict[\"Combined Score\"] = -1 * log(pvals) * oddr\n"
     ]
    },
    {
     "name": "stdout",
     "output_type": "stream",
     "text": [
      "(322, 9)\n"
     ]
    }
   ],
   "source": [
    "save_path='D:\\\\18.TE_Evolution\\\\12.Analysis\\\\2024-08-16 TE Evolution\\\\Part2.TE-associated_Genetic_Functions\\\\'\n",
    "ncRNA_path='D:\\\\18.TE_Evolution\\\\04.TE\\\\TE_ncRNA_list\\\\Overall\\\\'\n",
    "gene_list=[]\n",
    "count=0\n",
    "for  i in range(samples.shape[0]):\n",
    "    specie_id=samples.loc[i,'Specie_ID']\n",
    "    if specie_id+\".TE_to_ncRNA.txt\" in os.listdir(ncRNA_path):\n",
    "        te_ncRNAs=[gene.strip() for gene in open(ncRNA_path+specie_id+\".TE_to_ncRNA.txt\",'r').readlines()]\n",
    "        gene_list+=te_ncRNAs\n",
    "gene_list=list(set(gene_list))\n",
    "count=len(gene_list)\n",
    "print('TE-associated ncRNAs',count)\n",
    "if len(gene_list)>10:\n",
    "    try:\n",
    "        enr = gp.enrichr(gene_list=gene_list,#所需查询gene_list，可以是一个列表，也可为文件（一列，每行一个基因）\n",
    "            gene_sets=ncRNA_sets,#gene set library，多个相关的gene set 。如所有GO term组成一个gene set library.\n",
    "            outdir=save_path,#输出目录\n",
    "            top_term=20,\n",
    "            cutoff=0.01#pvalue阈值\n",
    "                                             )\n",
    "        result=enr.results\n",
    "        result=result.sort_values(\"Adjusted P-value\")\n",
    "        result[\"Title\"]=result['Term'].apply(lambda x:class_dic[x] if x in class_dic else '')\n",
    "        print(result.shape)\n",
    "        result.to_excel(save_path+\"TE-associated_ncRNAs_Enrichment.xlsx\",index=False)\n",
    "    except:\n",
    "        pass\n",
    "else:\n",
    "    print('Error: No TE-associated genes!')"
   ]
  },
  {
   "cell_type": "code",
   "execution_count": 6,
   "id": "12138b60",
   "metadata": {},
   "outputs": [
    {
     "data": {
      "text/plain": [
       "(37, 9)"
      ]
     },
     "execution_count": 6,
     "metadata": {},
     "output_type": "execute_result"
    }
   ],
   "source": [
    "result[result[\"Adjusted P-value\"]<0.01].shape"
   ]
  },
  {
   "cell_type": "markdown",
   "id": "3e039be8",
   "metadata": {},
   "source": [
    "### Enrichment of TE Origing ncRNAs"
   ]
  },
  {
   "cell_type": "code",
   "execution_count": 36,
   "id": "de7792e0",
   "metadata": {},
   "outputs": [
    {
     "name": "stdout",
     "output_type": "stream",
     "text": [
      "0\n",
      "100\n",
      "200\n",
      "300\n"
     ]
    }
   ],
   "source": [
    "ncRNA_sets={}\n",
    "ncRNA_bed_path='D:\\\\18.TE_Evolution\\\\06.Bed\\\\ncRNA_Bed\\\\'\n",
    "for i in range(samples.shape[0]):\n",
    "    if i%100==0:\n",
    "        print(i)\n",
    "    specie_id=samples.loc[i,'Specie_ID']\n",
    "    bg_file=specie_id+\".TE_to_ncRNA.txt\"\n",
    "    bg_genes={}\n",
    "    if bg_file in os.listdir(ncRNA_path):\n",
    "        te_ncRNAs=[gene.strip() for gene in open(ncRNA_path+specie_id+\".TE_to_ncRNA.txt\",'r').readlines()]\n",
    "        for gene in te_ncRNAs:\n",
    "            bg_genes[gene]=1\n",
    "    if specie_id+\"_ncRNA.bed\" in os.listdir(ncRNA_bed_path):\n",
    "        df=pd.read_csv(ncRNA_bed_path+specie_id+\"_ncRNA.bed\",sep='\\t')\n",
    "        new=[]\n",
    "        for n,n_df in df.groupby(\"ncRNA_name\"):\n",
    "            n_df=n_df.reset_index(drop=True).reset_index()\n",
    "            n_df['name']=n_df['ncRNA_name']+\"_\"+specie_id+\"_\"+n_df['index'].apply(lambda x:str(x))\n",
    "            new.append(n_df)\n",
    "        df=pd.concat(new).reset_index(drop=True)\n",
    "        for nf,nf_df in df.groupby(\"ncRNA_Family\"):\n",
    "            genes=nf_df[\"name\"].tolist()\n",
    "            te_genes=[]\n",
    "            for gene in genes:\n",
    "                if gene in bg_genes:\n",
    "                    te_genes.append(gene)\n",
    "            if nf in ncRNA_sets:\n",
    "                ncRNA_sets[nf]+=te_genes\n",
    "            else:\n",
    "                ncRNA_sets[nf]=te_genes"
   ]
  },
  {
   "cell_type": "code",
   "execution_count": 37,
   "id": "6bad4829",
   "metadata": {},
   "outputs": [
    {
     "data": {
      "text/plain": [
       "['Helitron',\n",
       " 'LTR Unknown',\n",
       " 'Mutator',\n",
       " 'Unknown',\n",
       " 'PIF-Harbinger',\n",
       " 'Copia',\n",
       " 'hAT',\n",
       " 'Other',\n",
       " 'Gypsy',\n",
       " 'CACTA',\n",
       " 'Tc1_Mariner']"
      ]
     },
     "execution_count": 37,
     "metadata": {},
     "output_type": "execute_result"
    }
   ],
   "source": [
    "gene_list_path='D:\\\\18.TE_Evolution\\\\04.TE\\\\TE_ncRNA_list\\\\Super_Family\\\\'\n",
    "families=list(set([f.split(\".TE_to_ncRNA\")[0][:-5] for f in os.listdir(gene_list_path)]))\n",
    "families"
   ]
  },
  {
   "cell_type": "code",
   "execution_count": 38,
   "id": "985e9040",
   "metadata": {},
   "outputs": [
    {
     "name": "stdout",
     "output_type": "stream",
     "text": [
      "Helitron 84432\n"
     ]
    },
    {
     "name": "stderr",
     "output_type": "stream",
     "text": [
      "C:\\Users\\huangyan8\\Anaconda3\\lib\\site-packages\\gseapy\\enrichr.py:556: RuntimeWarning: divide by zero encountered in log\n",
      "  odict[\"Combined Score\"] = -1 * log(pvals) * oddr\n"
     ]
    },
    {
     "name": "stdout",
     "output_type": "stream",
     "text": [
      "Helitron (194, 9)\n",
      "LTR Unknown 43932\n"
     ]
    },
    {
     "name": "stderr",
     "output_type": "stream",
     "text": [
      "C:\\Users\\huangyan8\\Anaconda3\\lib\\site-packages\\gseapy\\enrichr.py:556: RuntimeWarning: divide by zero encountered in log\n",
      "  odict[\"Combined Score\"] = -1 * log(pvals) * oddr\n"
     ]
    },
    {
     "name": "stdout",
     "output_type": "stream",
     "text": [
      "LTR Unknown (108, 9)\n",
      "Mutator 109244\n"
     ]
    },
    {
     "name": "stderr",
     "output_type": "stream",
     "text": [
      "C:\\Users\\huangyan8\\Anaconda3\\lib\\site-packages\\gseapy\\enrichr.py:556: RuntimeWarning: divide by zero encountered in log\n",
      "  odict[\"Combined Score\"] = -1 * log(pvals) * oddr\n"
     ]
    },
    {
     "name": "stdout",
     "output_type": "stream",
     "text": [
      "Mutator (184, 9)\n",
      "Unknown 42\n",
      "Unknown (1, 9)\n",
      "PIF-Harbinger 21528\n"
     ]
    },
    {
     "name": "stderr",
     "output_type": "stream",
     "text": [
      "C:\\Users\\huangyan8\\Anaconda3\\lib\\site-packages\\gseapy\\enrichr.py:556: RuntimeWarning: divide by zero encountered in log\n",
      "  odict[\"Combined Score\"] = -1 * log(pvals) * oddr\n"
     ]
    },
    {
     "name": "stdout",
     "output_type": "stream",
     "text": [
      "PIF-Harbinger (76, 9)\n",
      "Copia 17485\n"
     ]
    },
    {
     "name": "stderr",
     "output_type": "stream",
     "text": [
      "C:\\Users\\huangyan8\\Anaconda3\\lib\\site-packages\\gseapy\\enrichr.py:556: RuntimeWarning: divide by zero encountered in log\n",
      "  odict[\"Combined Score\"] = -1 * log(pvals) * oddr\n"
     ]
    },
    {
     "name": "stdout",
     "output_type": "stream",
     "text": [
      "Copia (84, 9)\n",
      "hAT 15577\n"
     ]
    },
    {
     "name": "stderr",
     "output_type": "stream",
     "text": [
      "C:\\Users\\huangyan8\\Anaconda3\\lib\\site-packages\\gseapy\\enrichr.py:556: RuntimeWarning: divide by zero encountered in log\n",
      "  odict[\"Combined Score\"] = -1 * log(pvals) * oddr\n"
     ]
    },
    {
     "name": "stdout",
     "output_type": "stream",
     "text": [
      "hAT (76, 9)\n",
      "Other 681\n"
     ]
    },
    {
     "name": "stderr",
     "output_type": "stream",
     "text": [
      "C:\\Users\\huangyan8\\Anaconda3\\lib\\site-packages\\gseapy\\enrichr.py:556: RuntimeWarning: divide by zero encountered in log\n",
      "  odict[\"Combined Score\"] = -1 * log(pvals) * oddr\n"
     ]
    },
    {
     "name": "stdout",
     "output_type": "stream",
     "text": [
      "Other (2, 9)\n",
      "Gypsy 51508\n"
     ]
    },
    {
     "name": "stderr",
     "output_type": "stream",
     "text": [
      "C:\\Users\\huangyan8\\Anaconda3\\lib\\site-packages\\gseapy\\enrichr.py:556: RuntimeWarning: divide by zero encountered in log\n",
      "  odict[\"Combined Score\"] = -1 * log(pvals) * oddr\n"
     ]
    },
    {
     "name": "stdout",
     "output_type": "stream",
     "text": [
      "Gypsy (91, 9)\n",
      "CACTA 50044\n"
     ]
    },
    {
     "name": "stderr",
     "output_type": "stream",
     "text": [
      "C:\\Users\\huangyan8\\Anaconda3\\lib\\site-packages\\gseapy\\enrichr.py:556: RuntimeWarning: divide by zero encountered in log\n",
      "  odict[\"Combined Score\"] = -1 * log(pvals) * oddr\n"
     ]
    },
    {
     "name": "stdout",
     "output_type": "stream",
     "text": [
      "CACTA (138, 9)\n",
      "Tc1_Mariner 194472\n"
     ]
    },
    {
     "name": "stderr",
     "output_type": "stream",
     "text": [
      "C:\\Users\\huangyan8\\Anaconda3\\lib\\site-packages\\gseapy\\enrichr.py:556: RuntimeWarning: divide by zero encountered in log\n",
      "  odict[\"Combined Score\"] = -1 * log(pvals) * oddr\n"
     ]
    },
    {
     "name": "stdout",
     "output_type": "stream",
     "text": [
      "Tc1_Mariner (120, 9)\n"
     ]
    }
   ],
   "source": [
    "save_path='D:\\\\18.TE_Evolution\\\\12.Analysis\\\\2024-08-16 TE Evolution\\\\Part1.Family_Enrichment\\\\'\n",
    "for family in families:\n",
    "    gene_list=[]\n",
    "    for  i in range(samples.shape[0]):\n",
    "        specie_id=samples.loc[i,'Specie_ID']\n",
    "        g_file=family+\"_\"+specie_id+'.TE_to_ncRNA.txt'#\".TE_DupGenes.txt\"\n",
    "        if g_file in os.listdir(gene_list_path):\n",
    "            genes=[gene.strip() for gene in open(gene_list_path+g_file,'r').readlines()]\n",
    "            gene_list+=genes\n",
    "    print(family,len(gene_list))\n",
    "    if len(gene_list)>10:\n",
    "        try:\n",
    "            enr = gp.enrichr(gene_list=gene_list,#所需查询gene_list，可以是一个列表，也可为文件（一列，每行一个基因）\n",
    "                            gene_sets=ncRNA_sets,#gene set library，多个相关的gene set 。如所有GO term组成一个gene set library.\n",
    "                            outdir=save_path,#输出目录\n",
    "                            top_term=20,\n",
    "                            cutoff=0.01#pvalue阈值\n",
    "                                             )\n",
    "            result=enr.results\n",
    "            result=result.sort_values(\"Adjusted P-value\")\n",
    "            result[\"Title\"]=result['Term'].apply(lambda x:class_dic[x] if x in class_dic else '')\n",
    "            print(family,result.shape)\n",
    "            result.to_excel(save_path+family+\"_ncRNAs_TE_Origing_Enrichment.xlsx\",index=False)\n",
    "        except:\n",
    "            pass\n",
    "    else:\n",
    "        print(family)"
   ]
  },
  {
   "cell_type": "code",
   "execution_count": null,
   "id": "df1cedfd",
   "metadata": {},
   "outputs": [],
   "source": []
  }
 ],
 "metadata": {
  "kernelspec": {
   "display_name": "Python 3",
   "language": "python",
   "name": "python3"
  },
  "language_info": {
   "codemirror_mode": {
    "name": "ipython",
    "version": 3
   },
   "file_extension": ".py",
   "mimetype": "text/x-python",
   "name": "python",
   "nbconvert_exporter": "python",
   "pygments_lexer": "ipython3",
   "version": "3.8.8"
  }
 },
 "nbformat": 4,
 "nbformat_minor": 5
}
